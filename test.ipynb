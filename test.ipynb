{
 "cells": [
  {
   "cell_type": "code",
   "execution_count": 2,
   "metadata": {},
   "outputs": [
    {
     "name": "stdout",
     "output_type": "stream",
     "text": [
      "Vor der Änderung:\n",
      "     entityId                    station_name  maximum_capacity   latitude  \\\n",
      "0       30434           Felde Gemeindezentrum                18  54.299552   \n",
      "1       30207        Sporthalle Saxtorfer Weg                15  54.487005   \n",
      "2       30151           Eiche Daenischenhagen                15  54.424663   \n",
      "3       30147     Bushaltestelle Eiderbruecke                15  54.289706   \n",
      "4       30146  Herzog Friedrich Strasse  ZOB                 25  54.317114   \n",
      "..        ...                             ...               ...        ...   \n",
      "190     24371               Anleger Reventlou                50  54.333647   \n",
      "191     24370                     Alter Markt                25  54.322799   \n",
      "192     24369         Alte Mu Brunswiker Str                 15  54.327583   \n",
      "193     24368                       Umsteiger                22  54.314861   \n",
      "194     24367           Anleger Dietrichsdorf                30  54.329611   \n",
      "\n",
      "     longitude       subarea  \n",
      "0     9.933817         Felde  \n",
      "1     9.835833  Eckernf√∂rde  \n",
      "2    10.127872          Kiel  \n",
      "3    10.090042   Kiel Umland  \n",
      "4    10.133099          Kiel  \n",
      "..         ...           ...  \n",
      "190  10.151714          Kiel  \n",
      "191  10.139499          Kiel  \n",
      "192  10.141500          Kiel  \n",
      "193  10.131167          Kiel  \n",
      "194  10.178556          Kiel  \n",
      "\n",
      "[195 rows x 6 columns]\n",
      "\n",
      "Nach der Änderung:\n",
      "     entityId                    station_name  maximum_capacity   latitude  \\\n",
      "0       30434           Felde Gemeindezentrum                18  54.299552   \n",
      "1       30207        Sporthalle Saxtorfer Weg                15  54.487005   \n",
      "2       30151           Eiche Daenischenhagen                15  54.424663   \n",
      "3       30147     Bushaltestelle Eiderbruecke                15  54.289706   \n",
      "4       30146  Herzog Friedrich Strasse  ZOB                 25  54.317114   \n",
      "..        ...                             ...               ...        ...   \n",
      "190     24371               Anleger Reventlou                50  54.333647   \n",
      "191     24370                     Alter Markt                25  54.322799   \n",
      "192     24369         Alte Mu Brunswiker Str                 15  54.327583   \n",
      "193     24368                       Umsteiger                22  54.314861   \n",
      "194     24367           Anleger Dietrichsdorf                30  54.329611   \n",
      "\n",
      "     longitude       subarea  \n",
      "0     9.933817         Felde  \n",
      "1     9.835833  Eckernf√∂rde  \n",
      "2    10.127872          Kiel  \n",
      "3    10.090042   Kiel Umland  \n",
      "4    10.133099          Kiel  \n",
      "..         ...           ...  \n",
      "190  10.151714          Kiel  \n",
      "191  10.139499          Kiel  \n",
      "192  10.141500          Kiel  \n",
      "193  10.131167          Kiel  \n",
      "194  10.178556          Kiel  \n",
      "\n",
      "[194 rows x 6 columns]\n"
     ]
    }
   ],
   "source": [
    "import pandas as pd\n",
    "\n",
    "# Pfad zur CSV-Datei\n",
    "file_path = 'data/stations.csv'\n",
    "\n",
    "# Laden der CSV-Datei\n",
    "df = pd.read_csv(file_path)\n",
    "\n",
    "# Ausgabe des DataFrame vor der Änderung\n",
    "print(\"Vor der Änderung:\")\n",
    "print(df)\n",
    "\n",
    "# Entfernen von Zeilen, in denen 'entityId' gleich 30011 ist\n",
    "df = df[df['entityId'] != 30011]\n",
    "\n",
    "# Alternativ mit drop und der Bedingung auf den index\n",
    "# indices_to_drop = df[df['entityId'] == 30011].index\n",
    "# df = df.drop(indices_to_drop)\n",
    "\n",
    "# Ausgabe des DataFrame nach der Änderung\n",
    "print(\"\\nNach der Änderung:\")\n",
    "print(df)\n",
    "\n",
    "# Optional: Speichern des geänderten DataFrame zurück in eine CSV-Datei\n",
    "df.to_csv(file_path, index=False)"
   ]
  },
  {
   "cell_type": "code",
   "execution_count": null,
   "metadata": {},
   "outputs": [],
   "source": []
  }
 ],
 "metadata": {
  "kernelspec": {
   "display_name": ".venv",
   "language": "python",
   "name": "python3"
  },
  "language_info": {
   "codemirror_mode": {
    "name": "ipython",
    "version": 3
   },
   "file_extension": ".py",
   "mimetype": "text/x-python",
   "name": "python",
   "nbconvert_exporter": "python",
   "pygments_lexer": "ipython3",
   "version": "3.12.2"
  }
 },
 "nbformat": 4,
 "nbformat_minor": 2
}
